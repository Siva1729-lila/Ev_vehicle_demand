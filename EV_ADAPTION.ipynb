{
  "nbformat": 4,
  "nbformat_minor": 0,
  "metadata": {
    "colab": {
      "provenance": [],
      "authorship_tag": "ABX9TyP5gTrT9jAr9zA2fw3Cph9m",
      "include_colab_link": true
    },
    "kernelspec": {
      "name": "python3",
      "display_name": "Python 3"
    },
    "language_info": {
      "name": "python"
    }
  },
  "cells": [
    {
      "cell_type": "markdown",
      "metadata": {
        "id": "view-in-github",
        "colab_type": "text"
      },
      "source": [
        "<a href=\"https://colab.research.google.com/github/Siva1729-lila/Ev_vehicle_demand/blob/main/EV_ADAPTION.ipynb\" target=\"_parent\"><img src=\"https://colab.research.google.com/assets/colab-badge.svg\" alt=\"Open In Colab\"/></a>"
      ]
    },
    {
      "cell_type": "code",
      "execution_count": 2,
      "metadata": {
        "id": "DZPAGJrRyxYv"
      },
      "outputs": [],
      "source": [
        "import pandas as pd\n",
        "import numpy as np\n"
      ]
    },
    {
      "cell_type": "code",
      "source": [
        "df = pd.read_csv(\"/content/Electric_Vehicle_Population_By_County.csv\")\n",
        "print(\"Dataset loaded successfully.\")\n"
      ],
      "metadata": {
        "colab": {
          "base_uri": "https://localhost:8080/"
        },
        "id": "ZqO4Z8KKy2SI",
        "outputId": "f46d3865-f460-49f4-f7bb-81da4b4e54cb"
      },
      "execution_count": 4,
      "outputs": [
        {
          "output_type": "stream",
          "name": "stdout",
          "text": [
            "Dataset loaded successfully.\n"
          ]
        }
      ]
    },
    {
      "cell_type": "code",
      "source": [
        "print(\"Shape of the dataset:\", df.shape)\n"
      ],
      "metadata": {
        "colab": {
          "base_uri": "https://localhost:8080/"
        },
        "id": "7n8r1oN8zE_J",
        "outputId": "12b62c06-6bd2-479f-eadb-d497fa561779"
      },
      "execution_count": null,
      "outputs": [
        {
          "output_type": "stream",
          "name": "stdout",
          "text": [
            "Shape of the dataset: (20819, 10)\n"
          ]
        }
      ]
    },
    {
      "cell_type": "code",
      "source": [
        "print(df.dtypes)\n"
      ],
      "metadata": {
        "colab": {
          "base_uri": "https://localhost:8080/"
        },
        "id": "DF-sQgr1zPLu",
        "outputId": "4f35861b-842e-483e-af5c-cf1ce4e90a2b"
      },
      "execution_count": null,
      "outputs": [
        {
          "output_type": "stream",
          "name": "stdout",
          "text": [
            "Date                                         object\n",
            "County                                       object\n",
            "State                                        object\n",
            "Vehicle Primary Use                          object\n",
            "Battery Electric Vehicles (BEVs)             object\n",
            "Plug-In Hybrid Electric Vehicles (PHEVs)     object\n",
            "Electric Vehicle (EV) Total                  object\n",
            "Non-Electric Vehicle Total                   object\n",
            "Total Vehicles                               object\n",
            "Percent Electric Vehicles                   float64\n",
            "dtype: object\n"
          ]
        }
      ]
    },
    {
      "cell_type": "code",
      "source": [
        "print(df.isnull().sum())\n"
      ],
      "metadata": {
        "colab": {
          "base_uri": "https://localhost:8080/"
        },
        "id": "MayExDaBzSS6",
        "outputId": "b4a55c37-bcdd-4341-97d5-ab1d4358efa6"
      },
      "execution_count": null,
      "outputs": [
        {
          "output_type": "stream",
          "name": "stdout",
          "text": [
            "Date                                         0\n",
            "County                                      86\n",
            "State                                       86\n",
            "Vehicle Primary Use                          0\n",
            "Battery Electric Vehicles (BEVs)             0\n",
            "Plug-In Hybrid Electric Vehicles (PHEVs)     0\n",
            "Electric Vehicle (EV) Total                  0\n",
            "Non-Electric Vehicle Total                   0\n",
            "Total Vehicles                               0\n",
            "Percent Electric Vehicles                    0\n",
            "dtype: int64\n"
          ]
        }
      ]
    },
    {
      "cell_type": "code",
      "source": [
        "df['Date'] = pd.to_datetime(df['Date'], errors='coerce')\n",
        "print(\"Date column converted.\")\n"
      ],
      "metadata": {
        "colab": {
          "base_uri": "https://localhost:8080/"
        },
        "id": "O5FBfCAnzVUF",
        "outputId": "e4ed94cb-bb36-4529-bc10-b509f5c46f6e"
      },
      "execution_count": null,
      "outputs": [
        {
          "output_type": "stream",
          "name": "stdout",
          "text": [
            "Date column converted.\n"
          ]
        }
      ]
    },
    {
      "cell_type": "code",
      "source": [
        "df = df[df['Date'].notnull()]\n",
        "print(\"Rows with valid dates:\", df.shape[0])\n"
      ],
      "metadata": {
        "colab": {
          "base_uri": "https://localhost:8080/"
        },
        "id": "N_T107cDzXtp",
        "outputId": "b45c5daf-1b19-4c69-b217-145345381642"
      },
      "execution_count": null,
      "outputs": [
        {
          "output_type": "stream",
          "name": "stdout",
          "text": [
            "Rows with valid dates: 20819\n"
          ]
        }
      ]
    },
    {
      "cell_type": "code",
      "source": [
        "df['County'] = df['County'].fillna('Unknown')\n",
        "df['State'] = df['State'].fillna('Unknown')\n",
        "\n",
        "print(\"Missing values filled.\")\n",
        "print(df[['County', 'State']].isnull().sum())\n"
      ],
      "metadata": {
        "colab": {
          "base_uri": "https://localhost:8080/"
        },
        "id": "3g4sOjTwzabb",
        "outputId": "2ff31fc4-2188-4bb1-9f5d-36757afa2664"
      },
      "execution_count": null,
      "outputs": [
        {
          "output_type": "stream",
          "name": "stdout",
          "text": [
            "Missing values filled.\n",
            "County    0\n",
            "State     0\n",
            "dtype: int64\n"
          ]
        }
      ]
    },
    {
      "cell_type": "code",
      "source": [
        "cols_to_convert = [\n",
        "    'Battery Electric Vehicles (BEVs)',\n",
        "    'Plug-In Hybrid Electric Vehicles (PHEVs)',\n",
        "    'Electric Vehicle (EV) Total',\n",
        "    'Non-Electric Vehicle Total',\n",
        "    'Total Vehicles'\n",
        "]\n",
        "\n",
        "for col in cols_to_convert:\n",
        "    df[col] = df[col].astype(str).str.replace(\",\", \"\")\n",
        "    df[col] = pd.to_numeric(df[col], errors='coerce')\n",
        "\n",
        "print(\"Converted object columns to numeric.\")\n"
      ],
      "metadata": {
        "colab": {
          "base_uri": "https://localhost:8080/"
        },
        "id": "pf1HUnIPze3z",
        "outputId": "d8a7498d-8afa-4c02-e498-1afb78aed610"
      },
      "execution_count": null,
      "outputs": [
        {
          "output_type": "stream",
          "name": "stdout",
          "text": [
            "Converted object columns to numeric.\n"
          ]
        }
      ]
    },
    {
      "cell_type": "code",
      "source": [
        "df = df.dropna(subset=cols_to_convert)\n",
        "df.reset_index(drop=True, inplace=True)\n",
        "\n",
        "print(\"Remaining rows after removing invalid numbers:\", df.shape[0])\n"
      ],
      "metadata": {
        "colab": {
          "base_uri": "https://localhost:8080/"
        },
        "id": "3M8ILkePzhdF",
        "outputId": "b6adae55-9600-490f-8a3f-119b0d1b5de7"
      },
      "execution_count": null,
      "outputs": [
        {
          "output_type": "stream",
          "name": "stdout",
          "text": [
            "Remaining rows after removing invalid numbers: 20819\n"
          ]
        }
      ]
    },
    {
      "cell_type": "code",
      "source": [
        "Q1 = df['Percent Electric Vehicles'].quantile(0.25)\n",
        "Q3 = df['Percent Electric Vehicles'].quantile(0.75)\n",
        "IQR = Q3 - Q1\n",
        "\n",
        "lower_bound = Q1 - 1.5 * IQR\n",
        "upper_bound = Q3 + 1.5 * IQR\n",
        "\n",
        "df['Percent Electric Vehicles'] = np.where(\n",
        "    df['Percent Electric Vehicles'] > upper_bound, upper_bound,\n",
        "    np.where(df['Percent Electric Vehicles'] < lower_bound, lower_bound,\n",
        "             df['Percent Electric Vehicles'])\n",
        ")\n",
        "\n",
        "print(\"Outliers capped successfully.\")\n"
      ],
      "metadata": {
        "colab": {
          "base_uri": "https://localhost:8080/"
        },
        "id": "hhot-oS0zlOw",
        "outputId": "2c8b6e17-9b10-49ad-8416-bf96d30f2cf3"
      },
      "execution_count": null,
      "outputs": [
        {
          "output_type": "stream",
          "name": "stdout",
          "text": [
            "Outliers capped successfully.\n"
          ]
        }
      ]
    },
    {
      "cell_type": "code",
      "source": [
        "print(\"Final Data Sample:\")\n",
        "print(df.head())\n"
      ],
      "metadata": {
        "colab": {
          "base_uri": "https://localhost:8080/"
        },
        "id": "J6ieLUPFzn_5",
        "outputId": "63dbad6b-f486-421b-c55b-f6970ab39a4b"
      },
      "execution_count": null,
      "outputs": [
        {
          "output_type": "stream",
          "name": "stdout",
          "text": [
            "Final Data Sample:\n",
            "        Date          County State Vehicle Primary Use  \\\n",
            "0 2022-09-30       Riverside    CA           Passenger   \n",
            "1 2022-12-31  Prince William    VA           Passenger   \n",
            "2 2020-01-31          Dakota    MN           Passenger   \n",
            "3 2022-06-30           Ferry    WA               Truck   \n",
            "4 2021-07-31         Douglas    CO           Passenger   \n",
            "\n",
            "   Battery Electric Vehicles (BEVs)  Plug-In Hybrid Electric Vehicles (PHEVs)  \\\n",
            "0                                 7                                         0   \n",
            "1                                 1                                         2   \n",
            "2                                 0                                         1   \n",
            "3                                 0                                         0   \n",
            "4                                 0                                         1   \n",
            "\n",
            "   Electric Vehicle (EV) Total  Non-Electric Vehicle Total  Total Vehicles  \\\n",
            "0                            7                         460             467   \n",
            "1                            3                         188             191   \n",
            "2                            1                          32              33   \n",
            "3                            0                        3575            3575   \n",
            "4                            1                          83              84   \n",
            "\n",
            "   Percent Electric Vehicles  \n",
            "0                       1.50  \n",
            "1                       1.57  \n",
            "2                       3.03  \n",
            "3                       0.00  \n",
            "4                       1.19  \n"
          ]
        }
      ]
    },
    {
      "cell_type": "code",
      "source": [
        "import pandas as pd\n",
        "import numpy as np\n",
        "import matplotlib.pyplot as plt\n",
        "from sklearn.preprocessing import LabelEncoder\n"
      ],
      "metadata": {
        "id": "sfvCI4P3LFyI"
      },
      "execution_count": 9,
      "outputs": []
    },
    {
      "cell_type": "code",
      "source": [
        "# Convert these columns to numeric type\n",
        "cols_to_convert = [\n",
        "    'Battery Electric Vehicles (BEVs)',\n",
        "    'Plug-In Hybrid Electric Vehicles (PHEVs)',\n",
        "    'Electric Vehicle (EV) Total',\n",
        "    'Non-Electric Vehicle Total',\n",
        "    'Total Vehicles',\n",
        "    'Percent Electric Vehicles'\n",
        "]\n",
        "\n",
        "# Remove commas and convert\n",
        "for col in cols_to_convert:\n",
        "    df[col] = df[col].astype(str).str.replace(\",\", \"\")\n",
        "    df[col] = pd.to_numeric(df[col], errors='coerce')\n",
        "\n",
        "# Show summary of numerical columns\n",
        "df[cols_to_convert].describe()\n"
      ],
      "metadata": {
        "colab": {
          "base_uri": "https://localhost:8080/",
          "height": 335
        },
        "id": "6CjzGthIGhcV",
        "outputId": "efcdf430-c383-4a99-ed38-f8c40d2cb648"
      },
      "execution_count": 6,
      "outputs": [
        {
          "output_type": "execute_result",
          "data": {
            "text/plain": [
              "       Battery Electric Vehicles (BEVs)  \\\n",
              "count                      20819.000000   \n",
              "mean                         217.516211   \n",
              "std                         2278.533317   \n",
              "min                            0.000000   \n",
              "25%                            0.000000   \n",
              "50%                            1.000000   \n",
              "75%                            3.000000   \n",
              "max                        72333.000000   \n",
              "\n",
              "       Plug-In Hybrid Electric Vehicles (PHEVs)  Electric Vehicle (EV) Total  \\\n",
              "count                              20819.000000                 20819.000000   \n",
              "mean                                  80.063644                   297.579855   \n",
              "std                                  646.373208                  2915.504792   \n",
              "min                                    0.000000                     0.000000   \n",
              "25%                                    0.000000                     1.000000   \n",
              "50%                                    1.000000                     1.000000   \n",
              "75%                                    2.000000                     4.000000   \n",
              "max                                17501.000000                 89834.000000   \n",
              "\n",
              "       Non-Electric Vehicle Total  Total Vehicles  Percent Electric Vehicles  \n",
              "count                2.081900e+04    2.081900e+04               20819.000000  \n",
              "mean                 2.509806e+04    2.539564e+04                   4.139216  \n",
              "std                  1.067324e+05    1.090860e+05                  11.055350  \n",
              "min                  0.000000e+00    1.000000e+00                   0.000000  \n",
              "25%                  4.300000e+01    4.400000e+01                   0.390000  \n",
              "50%                  1.630000e+02    1.650000e+02                   1.220000  \n",
              "75%                  8.380000e+03    8.421500e+03                   2.995000  \n",
              "max                  1.399823e+06    1.430937e+06                 100.000000  "
            ],
            "text/html": [
              "\n",
              "  <div id=\"df-ed80d968-cead-4ec7-8947-08de87de2a17\" class=\"colab-df-container\">\n",
              "    <div>\n",
              "<style scoped>\n",
              "    .dataframe tbody tr th:only-of-type {\n",
              "        vertical-align: middle;\n",
              "    }\n",
              "\n",
              "    .dataframe tbody tr th {\n",
              "        vertical-align: top;\n",
              "    }\n",
              "\n",
              "    .dataframe thead th {\n",
              "        text-align: right;\n",
              "    }\n",
              "</style>\n",
              "<table border=\"1\" class=\"dataframe\">\n",
              "  <thead>\n",
              "    <tr style=\"text-align: right;\">\n",
              "      <th></th>\n",
              "      <th>Battery Electric Vehicles (BEVs)</th>\n",
              "      <th>Plug-In Hybrid Electric Vehicles (PHEVs)</th>\n",
              "      <th>Electric Vehicle (EV) Total</th>\n",
              "      <th>Non-Electric Vehicle Total</th>\n",
              "      <th>Total Vehicles</th>\n",
              "      <th>Percent Electric Vehicles</th>\n",
              "    </tr>\n",
              "  </thead>\n",
              "  <tbody>\n",
              "    <tr>\n",
              "      <th>count</th>\n",
              "      <td>20819.000000</td>\n",
              "      <td>20819.000000</td>\n",
              "      <td>20819.000000</td>\n",
              "      <td>2.081900e+04</td>\n",
              "      <td>2.081900e+04</td>\n",
              "      <td>20819.000000</td>\n",
              "    </tr>\n",
              "    <tr>\n",
              "      <th>mean</th>\n",
              "      <td>217.516211</td>\n",
              "      <td>80.063644</td>\n",
              "      <td>297.579855</td>\n",
              "      <td>2.509806e+04</td>\n",
              "      <td>2.539564e+04</td>\n",
              "      <td>4.139216</td>\n",
              "    </tr>\n",
              "    <tr>\n",
              "      <th>std</th>\n",
              "      <td>2278.533317</td>\n",
              "      <td>646.373208</td>\n",
              "      <td>2915.504792</td>\n",
              "      <td>1.067324e+05</td>\n",
              "      <td>1.090860e+05</td>\n",
              "      <td>11.055350</td>\n",
              "    </tr>\n",
              "    <tr>\n",
              "      <th>min</th>\n",
              "      <td>0.000000</td>\n",
              "      <td>0.000000</td>\n",
              "      <td>0.000000</td>\n",
              "      <td>0.000000e+00</td>\n",
              "      <td>1.000000e+00</td>\n",
              "      <td>0.000000</td>\n",
              "    </tr>\n",
              "    <tr>\n",
              "      <th>25%</th>\n",
              "      <td>0.000000</td>\n",
              "      <td>0.000000</td>\n",
              "      <td>1.000000</td>\n",
              "      <td>4.300000e+01</td>\n",
              "      <td>4.400000e+01</td>\n",
              "      <td>0.390000</td>\n",
              "    </tr>\n",
              "    <tr>\n",
              "      <th>50%</th>\n",
              "      <td>1.000000</td>\n",
              "      <td>1.000000</td>\n",
              "      <td>1.000000</td>\n",
              "      <td>1.630000e+02</td>\n",
              "      <td>1.650000e+02</td>\n",
              "      <td>1.220000</td>\n",
              "    </tr>\n",
              "    <tr>\n",
              "      <th>75%</th>\n",
              "      <td>3.000000</td>\n",
              "      <td>2.000000</td>\n",
              "      <td>4.000000</td>\n",
              "      <td>8.380000e+03</td>\n",
              "      <td>8.421500e+03</td>\n",
              "      <td>2.995000</td>\n",
              "    </tr>\n",
              "    <tr>\n",
              "      <th>max</th>\n",
              "      <td>72333.000000</td>\n",
              "      <td>17501.000000</td>\n",
              "      <td>89834.000000</td>\n",
              "      <td>1.399823e+06</td>\n",
              "      <td>1.430937e+06</td>\n",
              "      <td>100.000000</td>\n",
              "    </tr>\n",
              "  </tbody>\n",
              "</table>\n",
              "</div>\n",
              "    <div class=\"colab-df-buttons\">\n",
              "\n",
              "  <div class=\"colab-df-container\">\n",
              "    <button class=\"colab-df-convert\" onclick=\"convertToInteractive('df-ed80d968-cead-4ec7-8947-08de87de2a17')\"\n",
              "            title=\"Convert this dataframe to an interactive table.\"\n",
              "            style=\"display:none;\">\n",
              "\n",
              "  <svg xmlns=\"http://www.w3.org/2000/svg\" height=\"24px\" viewBox=\"0 -960 960 960\">\n",
              "    <path d=\"M120-120v-720h720v720H120Zm60-500h600v-160H180v160Zm220 220h160v-160H400v160Zm0 220h160v-160H400v160ZM180-400h160v-160H180v160Zm440 0h160v-160H620v160ZM180-180h160v-160H180v160Zm440 0h160v-160H620v160Z\"/>\n",
              "  </svg>\n",
              "    </button>\n",
              "\n",
              "  <style>\n",
              "    .colab-df-container {\n",
              "      display:flex;\n",
              "      gap: 12px;\n",
              "    }\n",
              "\n",
              "    .colab-df-convert {\n",
              "      background-color: #E8F0FE;\n",
              "      border: none;\n",
              "      border-radius: 50%;\n",
              "      cursor: pointer;\n",
              "      display: none;\n",
              "      fill: #1967D2;\n",
              "      height: 32px;\n",
              "      padding: 0 0 0 0;\n",
              "      width: 32px;\n",
              "    }\n",
              "\n",
              "    .colab-df-convert:hover {\n",
              "      background-color: #E2EBFA;\n",
              "      box-shadow: 0px 1px 2px rgba(60, 64, 67, 0.3), 0px 1px 3px 1px rgba(60, 64, 67, 0.15);\n",
              "      fill: #174EA6;\n",
              "    }\n",
              "\n",
              "    .colab-df-buttons div {\n",
              "      margin-bottom: 4px;\n",
              "    }\n",
              "\n",
              "    [theme=dark] .colab-df-convert {\n",
              "      background-color: #3B4455;\n",
              "      fill: #D2E3FC;\n",
              "    }\n",
              "\n",
              "    [theme=dark] .colab-df-convert:hover {\n",
              "      background-color: #434B5C;\n",
              "      box-shadow: 0px 1px 3px 1px rgba(0, 0, 0, 0.15);\n",
              "      filter: drop-shadow(0px 1px 2px rgba(0, 0, 0, 0.3));\n",
              "      fill: #FFFFFF;\n",
              "    }\n",
              "  </style>\n",
              "\n",
              "    <script>\n",
              "      const buttonEl =\n",
              "        document.querySelector('#df-ed80d968-cead-4ec7-8947-08de87de2a17 button.colab-df-convert');\n",
              "      buttonEl.style.display =\n",
              "        google.colab.kernel.accessAllowed ? 'block' : 'none';\n",
              "\n",
              "      async function convertToInteractive(key) {\n",
              "        const element = document.querySelector('#df-ed80d968-cead-4ec7-8947-08de87de2a17');\n",
              "        const dataTable =\n",
              "          await google.colab.kernel.invokeFunction('convertToInteractive',\n",
              "                                                    [key], {});\n",
              "        if (!dataTable) return;\n",
              "\n",
              "        const docLinkHtml = 'Like what you see? Visit the ' +\n",
              "          '<a target=\"_blank\" href=https://colab.research.google.com/notebooks/data_table.ipynb>data table notebook</a>'\n",
              "          + ' to learn more about interactive tables.';\n",
              "        element.innerHTML = '';\n",
              "        dataTable['output_type'] = 'display_data';\n",
              "        await google.colab.output.renderOutput(dataTable, element);\n",
              "        const docLink = document.createElement('div');\n",
              "        docLink.innerHTML = docLinkHtml;\n",
              "        element.appendChild(docLink);\n",
              "      }\n",
              "    </script>\n",
              "  </div>\n",
              "\n",
              "\n",
              "    <div id=\"df-8b26cb03-a06d-438b-9ff7-6f6be899ca79\">\n",
              "      <button class=\"colab-df-quickchart\" onclick=\"quickchart('df-8b26cb03-a06d-438b-9ff7-6f6be899ca79')\"\n",
              "                title=\"Suggest charts\"\n",
              "                style=\"display:none;\">\n",
              "\n",
              "<svg xmlns=\"http://www.w3.org/2000/svg\" height=\"24px\"viewBox=\"0 0 24 24\"\n",
              "     width=\"24px\">\n",
              "    <g>\n",
              "        <path d=\"M19 3H5c-1.1 0-2 .9-2 2v14c0 1.1.9 2 2 2h14c1.1 0 2-.9 2-2V5c0-1.1-.9-2-2-2zM9 17H7v-7h2v7zm4 0h-2V7h2v10zm4 0h-2v-4h2v4z\"/>\n",
              "    </g>\n",
              "</svg>\n",
              "      </button>\n",
              "\n",
              "<style>\n",
              "  .colab-df-quickchart {\n",
              "      --bg-color: #E8F0FE;\n",
              "      --fill-color: #1967D2;\n",
              "      --hover-bg-color: #E2EBFA;\n",
              "      --hover-fill-color: #174EA6;\n",
              "      --disabled-fill-color: #AAA;\n",
              "      --disabled-bg-color: #DDD;\n",
              "  }\n",
              "\n",
              "  [theme=dark] .colab-df-quickchart {\n",
              "      --bg-color: #3B4455;\n",
              "      --fill-color: #D2E3FC;\n",
              "      --hover-bg-color: #434B5C;\n",
              "      --hover-fill-color: #FFFFFF;\n",
              "      --disabled-bg-color: #3B4455;\n",
              "      --disabled-fill-color: #666;\n",
              "  }\n",
              "\n",
              "  .colab-df-quickchart {\n",
              "    background-color: var(--bg-color);\n",
              "    border: none;\n",
              "    border-radius: 50%;\n",
              "    cursor: pointer;\n",
              "    display: none;\n",
              "    fill: var(--fill-color);\n",
              "    height: 32px;\n",
              "    padding: 0;\n",
              "    width: 32px;\n",
              "  }\n",
              "\n",
              "  .colab-df-quickchart:hover {\n",
              "    background-color: var(--hover-bg-color);\n",
              "    box-shadow: 0 1px 2px rgba(60, 64, 67, 0.3), 0 1px 3px 1px rgba(60, 64, 67, 0.15);\n",
              "    fill: var(--button-hover-fill-color);\n",
              "  }\n",
              "\n",
              "  .colab-df-quickchart-complete:disabled,\n",
              "  .colab-df-quickchart-complete:disabled:hover {\n",
              "    background-color: var(--disabled-bg-color);\n",
              "    fill: var(--disabled-fill-color);\n",
              "    box-shadow: none;\n",
              "  }\n",
              "\n",
              "  .colab-df-spinner {\n",
              "    border: 2px solid var(--fill-color);\n",
              "    border-color: transparent;\n",
              "    border-bottom-color: var(--fill-color);\n",
              "    animation:\n",
              "      spin 1s steps(1) infinite;\n",
              "  }\n",
              "\n",
              "  @keyframes spin {\n",
              "    0% {\n",
              "      border-color: transparent;\n",
              "      border-bottom-color: var(--fill-color);\n",
              "      border-left-color: var(--fill-color);\n",
              "    }\n",
              "    20% {\n",
              "      border-color: transparent;\n",
              "      border-left-color: var(--fill-color);\n",
              "      border-top-color: var(--fill-color);\n",
              "    }\n",
              "    30% {\n",
              "      border-color: transparent;\n",
              "      border-left-color: var(--fill-color);\n",
              "      border-top-color: var(--fill-color);\n",
              "      border-right-color: var(--fill-color);\n",
              "    }\n",
              "    40% {\n",
              "      border-color: transparent;\n",
              "      border-right-color: var(--fill-color);\n",
              "      border-top-color: var(--fill-color);\n",
              "    }\n",
              "    60% {\n",
              "      border-color: transparent;\n",
              "      border-right-color: var(--fill-color);\n",
              "    }\n",
              "    80% {\n",
              "      border-color: transparent;\n",
              "      border-right-color: var(--fill-color);\n",
              "      border-bottom-color: var(--fill-color);\n",
              "    }\n",
              "    90% {\n",
              "      border-color: transparent;\n",
              "      border-bottom-color: var(--fill-color);\n",
              "    }\n",
              "  }\n",
              "</style>\n",
              "\n",
              "      <script>\n",
              "        async function quickchart(key) {\n",
              "          const quickchartButtonEl =\n",
              "            document.querySelector('#' + key + ' button');\n",
              "          quickchartButtonEl.disabled = true;  // To prevent multiple clicks.\n",
              "          quickchartButtonEl.classList.add('colab-df-spinner');\n",
              "          try {\n",
              "            const charts = await google.colab.kernel.invokeFunction(\n",
              "                'suggestCharts', [key], {});\n",
              "          } catch (error) {\n",
              "            console.error('Error during call to suggestCharts:', error);\n",
              "          }\n",
              "          quickchartButtonEl.classList.remove('colab-df-spinner');\n",
              "          quickchartButtonEl.classList.add('colab-df-quickchart-complete');\n",
              "        }\n",
              "        (() => {\n",
              "          let quickchartButtonEl =\n",
              "            document.querySelector('#df-8b26cb03-a06d-438b-9ff7-6f6be899ca79 button');\n",
              "          quickchartButtonEl.style.display =\n",
              "            google.colab.kernel.accessAllowed ? 'block' : 'none';\n",
              "        })();\n",
              "      </script>\n",
              "    </div>\n",
              "\n",
              "    </div>\n",
              "  </div>\n"
            ],
            "application/vnd.google.colaboratory.intrinsic+json": {
              "type": "dataframe",
              "summary": "{\n  \"name\": \"df[cols_to_convert]\",\n  \"rows\": 8,\n  \"fields\": [\n    {\n      \"column\": \"Battery Electric Vehicles (BEVs)\",\n      \"properties\": {\n        \"dtype\": \"number\",\n        \"std\": 25430.769790651073,\n        \"min\": 0.0,\n        \"max\": 72333.0,\n        \"num_unique_values\": 7,\n        \"samples\": [\n          20819.0,\n          217.51621115327345,\n          3.0\n        ],\n        \"semantic_type\": \"\",\n        \"description\": \"\"\n      }\n    },\n    {\n      \"column\": \"Plug-In Hybrid Electric Vehicles (PHEVs)\",\n      \"properties\": {\n        \"dtype\": \"number\",\n        \"std\": 8860.285876635027,\n        \"min\": 0.0,\n        \"max\": 20819.0,\n        \"num_unique_values\": 7,\n        \"samples\": [\n          20819.0,\n          80.06364378692541,\n          2.0\n        ],\n        \"semantic_type\": \"\",\n        \"description\": \"\"\n      }\n    },\n    {\n      \"column\": \"Electric Vehicle (EV) Total\",\n      \"properties\": {\n        \"dtype\": \"number\",\n        \"std\": 31376.311809173356,\n        \"min\": 0.0,\n        \"max\": 89834.0,\n        \"num_unique_values\": 7,\n        \"samples\": [\n          20819.0,\n          297.57985494019886,\n          4.0\n        ],\n        \"semantic_type\": \"\",\n        \"description\": \"\"\n      }\n    },\n    {\n      \"column\": \"Non-Electric Vehicle Total\",\n      \"properties\": {\n        \"dtype\": \"number\",\n        \"std\": 488059.8449888258,\n        \"min\": 0.0,\n        \"max\": 1399823.0,\n        \"num_unique_values\": 8,\n        \"samples\": [\n          25098.06253902685,\n          163.0,\n          20819.0\n        ],\n        \"semantic_type\": \"\",\n        \"description\": \"\"\n      }\n    },\n    {\n      \"column\": \"Total Vehicles\",\n      \"properties\": {\n        \"dtype\": \"number\",\n        \"std\": 498953.02280539804,\n        \"min\": 1.0,\n        \"max\": 1430937.0,\n        \"num_unique_values\": 8,\n        \"samples\": [\n          25395.64239396705,\n          165.0,\n          20819.0\n        ],\n        \"semantic_type\": \"\",\n        \"description\": \"\"\n      }\n    },\n    {\n      \"column\": \"Percent Electric Vehicles\",\n      \"properties\": {\n        \"dtype\": \"number\",\n        \"std\": 7354.655911711073,\n        \"min\": 0.0,\n        \"max\": 20819.0,\n        \"num_unique_values\": 8,\n        \"samples\": [\n          4.139216100677266,\n          1.22,\n          20819.0\n        ],\n        \"semantic_type\": \"\",\n        \"description\": \"\"\n      }\n    }\n  ]\n}"
            }
          },
          "metadata": {},
          "execution_count": 6
        }
      ]
    },
    {
      "cell_type": "code",
      "source": [
        "top_counties = df.groupby('County')['Electric Vehicle (EV) Total'].sum().sort_values(ascending=False).head(3)\n",
        "bottom_counties = df.groupby('County')['Electric Vehicle (EV) Total'].sum().sort_values().head(3)\n",
        "\n",
        "print(\"Top 3 Counties with most EVs:\\n\", top_counties)\n",
        "print(\"\\nBottom 3 Counties with least EVs:\\n\", bottom_counties)\n"
      ],
      "metadata": {
        "colab": {
          "base_uri": "https://localhost:8080/"
        },
        "id": "sPAzSI0sK4SC",
        "outputId": "31190525-8fdf-4cf1-9aca-0bbdab20f64c"
      },
      "execution_count": 7,
      "outputs": [
        {
          "output_type": "stream",
          "name": "stdout",
          "text": [
            "Top 3 Counties with most EVs:\n",
            " County\n",
            "King         3309850\n",
            "Snohomish     683598\n",
            "Pierce        456003\n",
            "Name: Electric Vehicle (EV) Total, dtype: int64\n",
            "\n",
            "Bottom 3 Counties with least EVs:\n",
            " County\n",
            "Brown         1\n",
            "Union         1\n",
            "Hood River    1\n",
            "Name: Electric Vehicle (EV) Total, dtype: int64\n"
          ]
        }
      ]
    },
    {
      "cell_type": "code",
      "source": [
        "# Get total counts\n",
        "bev_total = df['Battery Electric Vehicles (BEVs)'].sum()\n",
        "phev_total = df['Plug-In Hybrid Electric Vehicles (PHEVs)'].sum()\n",
        "ev_total = df['Electric Vehicle (EV) Total'].sum()\n",
        "non_ev_total = df['Non-Electric Vehicle Total'].sum()\n",
        "\n",
        "# Create plot\n",
        "fig, ax = plt.subplots(figsize=(8, 6))\n",
        "\n",
        "# First bar: BEV + PHEV\n",
        "ax.bar('EV Types', bev_total, label='BEV', color='skyblue')\n",
        "ax.bar('EV Types', phev_total, bottom=bev_total, label='PHEV', color='orange')\n",
        "\n",
        "# Second bar: EV + Non-EV\n",
        "ax.bar('Total Vehicles', ev_total, label='EV', color='green')\n",
        "ax.bar('Total Vehicles', non_ev_total, bottom=ev_total, label='Non-EV', color='red')\n",
        "\n",
        "# Labels and title\n",
        "ax.set_ylabel('Count')\n",
        "ax.set_title('Stacked Column Chart: EV and Vehicle Types')\n",
        "ax.legend()\n",
        "plt.tight_layout()\n",
        "plt.show()\n"
      ],
      "metadata": {
        "colab": {
          "base_uri": "https://localhost:8080/",
          "height": 607
        },
        "id": "_bNTa0S9K-wu",
        "outputId": "279f7f05-bc32-4e04-cb98-886907f1f15d"
      },
      "execution_count": 10,
      "outputs": [
        {
          "output_type": "display_data",
          "data": {
            "text/plain": [
              "<Figure size 800x600 with 1 Axes>"
            ],
            "image/png": "[encoded data removed]"
          },
          "metadata": {}
        }
      ]
    },
    {
      "cell_type": "code",
      "source": [
        "df['Date'] = pd.to_datetime(df['Date'], errors='coerce')  # Ensure 'Date' is datetime\n",
        "df['year'] = df['Date'].dt.year\n",
        "df['month'] = df['Date'].dt.month\n",
        "df['numeric_date'] = df['year'] * 12 + df['month']\n",
        "\n",
        "print(df[['Date', 'year', 'month', 'numeric_date']].head())\n"
      ],
      "metadata": {
        "colab": {
          "base_uri": "https://localhost:8080/"
        },
        "id": "pH9SrhlSLCII",
        "outputId": "ea758e6b-ab9d-45ab-b14c-b6d5876a0be4"
      },
      "execution_count": 11,
      "outputs": [
        {
          "output_type": "stream",
          "name": "stdout",
          "text": [
            "        Date  year  month  numeric_date\n",
            "0 2022-09-30  2022      9         24273\n",
            "1 2022-12-31  2022     12         24276\n",
            "2 2020-01-31  2020      1         24241\n",
            "3 2022-06-30  2022      6         24270\n",
            "4 2021-07-31  2021      7         24259\n"
          ]
        }
      ]
    },
    {
      "cell_type": "code",
      "source": [
        "le = LabelEncoder()\n",
        "df['county_encoded'] = le.fit_transform(df['County'])\n",
        "\n",
        "print(\"First 5 encoded counties:\\n\", df[['County', 'county_encoded']].head())\n"
      ],
      "metadata": {
        "colab": {
          "base_uri": "https://localhost:8080/"
        },
        "id": "ZBxu6zOeLQwM",
        "outputId": "54bdedae-72ca-478b-a8b6-b036a28065a2"
      },
      "execution_count": 12,
      "outputs": [
        {
          "output_type": "stream",
          "name": "stdout",
          "text": [
            "First 5 encoded counties:\n",
            "            County  county_encoded\n",
            "0       Riverside             224\n",
            "1  Prince William             214\n",
            "2          Dakota              62\n",
            "3           Ferry              85\n",
            "4         Douglas              73\n"
          ]
        }
      ]
    },
    {
      "cell_type": "code",
      "source": [
        "df = df.sort_values(['County', 'Date'])\n",
        "print(\"Data sorted by County and Date.\")\n"
      ],
      "metadata": {
        "colab": {
          "base_uri": "https://localhost:8080/"
        },
        "id": "lEOmvy89LTqk",
        "outputId": "d95fe027-2966-4367-9684-3cd2f1d67c06"
      },
      "execution_count": 13,
      "outputs": [
        {
          "output_type": "stream",
          "name": "stdout",
          "text": [
            "Data sorted by County and Date.\n"
          ]
        }
      ]
    },
    {
      "cell_type": "code",
      "source": [
        "# 1-month and 3-month percentage change of EV Total (per County)\n",
        "df['ev_total_pct_change_1'] = df.groupby('County')['Electric Vehicle (EV) Total'] \\\n",
        "                                .pct_change(periods=1, fill_method=None)\n",
        "\n",
        "df['ev_total_pct_change_3'] = df.groupby('County')['Electric Vehicle (EV) Total'] \\\n",
        "                                .pct_change(periods=3, fill_method=None)\n"
      ],
      "metadata": {
        "id": "o6aDm8bxLWNA"
      },
      "execution_count": 15,
      "outputs": []
    },
    {
      "cell_type": "code",
      "source": [
        "df['months_since_start'] = df.groupby('County').cumcount()\n"
      ],
      "metadata": {
        "id": "K-YJtBH5MqvU"
      },
      "execution_count": 16,
      "outputs": []
    },
    {
      "cell_type": "code",
      "source": [
        "for lag in [1, 2, 3]:\n",
        "    df[f'ev_total_lag{lag}'] = df.groupby('County')['Electric Vehicle (EV) Total'].shift(lag)\n"
      ],
      "metadata": {
        "id": "GLrE0Q-IMu_S"
      },
      "execution_count": 17,
      "outputs": []
    },
    {
      "cell_type": "code",
      "source": [
        "df['ev_total_roll_mean_3'] = df.groupby('County')['Electric Vehicle (EV) Total'] \\\n",
        "                               .transform(lambda x: x.shift(1).rolling(3).mean())\n"
      ],
      "metadata": {
        "id": "4MdOVVYIM4lo"
      },
      "execution_count": 18,
      "outputs": []
    },
    {
      "cell_type": "code",
      "source": [
        "df['ev_total_pct_change_1'] = df['ev_total_pct_change_1'].replace([np.inf, -np.inf], np.nan).fillna(0)\n",
        "df['ev_total_pct_change_3'] = df['ev_total_pct_change_3'].replace([np.inf, -np.inf], np.nan).fillna(0)\n"
      ],
      "metadata": {
        "id": "zl-Te8dKM7N4"
      },
      "execution_count": 19,
      "outputs": []
    },
    {
      "cell_type": "code",
      "source": [
        "df['cumulative_ev'] = df.groupby('County')['Electric Vehicle (EV) Total'].cumsum()\n"
      ],
      "metadata": {
        "id": "i9gFzGjgM9ty"
      },
      "execution_count": 20,
      "outputs": []
    },
    {
      "cell_type": "code",
      "source": [
        "df['ev_growth_slope'] = df.groupby('County')['cumulative_ev'].transform(\n",
        "    lambda x: x.rolling(6).apply(lambda y: np.polyfit(range(len(y)), y, 1)[0] if len(y) == 6 else np.nan)\n",
        ")\n"
      ],
      "metadata": {
        "id": "b8rDEBbgM_95"
      },
      "execution_count": 21,
      "outputs": []
    },
    {
      "cell_type": "code",
      "source": [
        "df = df.dropna().reset_index(drop=True)\n",
        "print(\"Final cleaned shape:\", df.shape)\n"
      ],
      "metadata": {
        "colab": {
          "base_uri": "https://localhost:8080/"
        },
        "id": "iYT5RqQfNCV3",
        "outputId": "b6014848-22d0-44bb-e0b2-1f5eb4bce1a2"
      },
      "execution_count": 22,
      "outputs": [
        {
          "output_type": "stream",
          "name": "stdout",
          "text": [
            "Final cleaned shape: (19208, 23)\n"
          ]
        }
      ]
    },
    {
      "cell_type": "code",
      "source": [
        "df.to_csv('preprocessed_ev_data.csv', index=False)\n",
        "print(\"Preprocessed CSV saved.\")\n"
      ],
      "metadata": {
        "colab": {
          "base_uri": "https://localhost:8080/"
        },
        "id": "F1ePPe_tNH9_",
        "outputId": "aedd58ee-86af-4295-8dfe-fdf6be0e8338"
      },
      "execution_count": 23,
      "outputs": [
        {
          "output_type": "stream",
          "name": "stdout",
          "text": [
            "Preprocessed CSV saved.\n"
          ]
        }
      ]
    },
    {
      "cell_type": "code",
      "source": [
        "features = [\n",
        "    'months_since_start',\n",
        "    'county_encoded',\n",
        "    'ev_total_lag1',\n",
        "    'ev_total_lag2',\n",
        "    'ev_total_lag3',\n",
        "    'ev_total_roll_mean_3',\n",
        "    'ev_total_pct_change_1',\n",
        "    'ev_total_pct_change_3',\n",
        "    'ev_growth_slope',\n",
        "]\n",
        "\n",
        "target = 'Electric Vehicle (EV) Total'\n",
        "\n",
        "X = df[features]\n",
        "y = df[target]\n",
        "\n",
        "print(\"X sample:\\n\", X.head())\n"
      ],
      "metadata": {
        "colab": {
          "base_uri": "https://localhost:8080/"
        },
        "id": "ROIXpOWTNKbm",
        "outputId": "29234b83-76a3-4fe0-8843-a463e5c641ef"
      },
      "execution_count": 24,
      "outputs": [
        {
          "output_type": "stream",
          "name": "stdout",
          "text": [
            "X sample:\n",
            "    months_since_start  county_encoded  ev_total_lag1  ev_total_lag2  \\\n",
            "0                 5.0               0            2.0            2.0   \n",
            "1                 6.0               0            2.0            2.0   \n",
            "2                 7.0               0            2.0            2.0   \n",
            "3                 8.0               0            2.0            2.0   \n",
            "4                 9.0               0            2.0            2.0   \n",
            "\n",
            "   ev_total_lag3  ev_total_roll_mean_3  ev_total_pct_change_1  \\\n",
            "0            2.0                   2.0                    0.0   \n",
            "1            2.0                   2.0                    0.0   \n",
            "2            2.0                   2.0                    0.0   \n",
            "3            2.0                   2.0                    0.0   \n",
            "4            2.0                   2.0                    0.0   \n",
            "\n",
            "   ev_total_pct_change_3  ev_growth_slope  \n",
            "0                    0.0         1.857143  \n",
            "1                    0.0         2.000000  \n",
            "2                    0.0         2.000000  \n",
            "3                    0.0         2.000000  \n",
            "4                    0.0         2.000000  \n"
          ]
        }
      ]
    },
    {
      "cell_type": "code",
      "source": [
        "print(\"X shape:\", X.shape)\n"
      ],
      "metadata": {
        "colab": {
          "base_uri": "https://localhost:8080/"
        },
        "id": "UO6YSQyONN8A",
        "outputId": "06f515e8-eec7-4d59-9503-454653c6c2d4"
      },
      "execution_count": 25,
      "outputs": [
        {
          "output_type": "stream",
          "name": "stdout",
          "text": [
            "X shape: (19208, 9)\n"
          ]
        }
      ]
    },
    {
      "cell_type": "code",
      "source": [
        "from sklearn.model_selection import train_test_split\n",
        "\n",
        "X_train, X_test, y_train, y_test = train_test_split(X, y, shuffle=False, test_size=0.1)\n",
        "\n",
        "print(\"Train size:\", X_train.shape)\n",
        "print(\"Test size:\", X_test.shape)\n"
      ],
      "metadata": {
        "colab": {
          "base_uri": "https://localhost:8080/"
        },
        "id": "y4CxlZxENRmi",
        "outputId": "b4b08635-38f8-4fe2-b926-0f9cba28bfa0"
      },
      "execution_count": 26,
      "outputs": [
        {
          "output_type": "stream",
          "name": "stdout",
          "text": [
            "Train size: (17287, 9)\n",
            "Test size: (1921, 9)\n"
          ]
        }
      ]
    },
    {
      "cell_type": "code",
      "source": [
        "print(y_test.head())\n"
      ],
      "metadata": {
        "colab": {
          "base_uri": "https://localhost:8080/"
        },
        "id": "YDbfnl8GNT0t",
        "outputId": "8788503a-53cd-453a-ce38-04a61dc7e37b"
      },
      "execution_count": 27,
      "outputs": [
        {
          "output_type": "stream",
          "name": "stdout",
          "text": [
            "17287       0\n",
            "17288    2828\n",
            "17289       3\n",
            "17290    2892\n",
            "17291    2959\n",
            "Name: Electric Vehicle (EV) Total, dtype: int64\n"
          ]
        }
      ]
    },
    {
      "cell_type": "code",
      "source": [],
      "metadata": {
        "id": "37ePg_iyNWlM"
      },
      "execution_count": null,
      "outputs": []
    }
  ]
}