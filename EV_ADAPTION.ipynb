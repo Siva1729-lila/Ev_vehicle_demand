{
  "nbformat": 4,
  "nbformat_minor": 0,
  "metadata": {
    "colab": {
      "provenance": [],
      "authorship_tag": "ABX9TyPWxxoYhRHnWOYSLlRGDyPt",
      "include_colab_link": true
    },
    "kernelspec": {
      "name": "python3",
      "display_name": "Python 3"
    },
    "language_info": {
      "name": "python"
    }
  },
  "cells": [
    {
      "cell_type": "markdown",
      "metadata": {
        "id": "view-in-github",
        "colab_type": "text"
      },
      "source": [
        "<a href=\"https://colab.research.google.com/github/Siva1729-lila/Ev_vehicle_demand/blob/main/EV_ADAPTION.ipynb\" target=\"_parent\"><img src=\"https://colab.research.google.com/assets/colab-badge.svg\" alt=\"Open In Colab\"/></a>"
      ]
    },
    {
      "cell_type": "code",
      "execution_count": 1,
      "metadata": {
        "id": "DZPAGJrRyxYv"
      },
      "outputs": [],
      "source": [
        "import pandas as pd\n",
        "import numpy as np\n"
      ]
    },
    {
      "cell_type": "code",
      "source": [
        "df = pd.read_csv(\"/content/Electric_Vehicle_Population_By_County (1).csv\")\n",
        "print(\"Dataset loaded successfully.\")\n"
      ],
      "metadata": {
        "colab": {
          "base_uri": "https://localhost:8080/"
        },
        "id": "ZqO4Z8KKy2SI",
        "outputId": "c8776c19-4216-47c0-c2bc-e76be43d5d6d"
      },
      "execution_count": 3,
      "outputs": [
        {
          "output_type": "stream",
          "name": "stdout",
          "text": [
            "Dataset loaded successfully.\n"
          ]
        }
      ]
    },
    {
      "cell_type": "code",
      "source": [
        "print(\"Shape of the dataset:\", df.shape)\n"
      ],
      "metadata": {
        "colab": {
          "base_uri": "https://localhost:8080/"
        },
        "id": "7n8r1oN8zE_J",
        "outputId": "12b62c06-6bd2-479f-eadb-d497fa561779"
      },
      "execution_count": 4,
      "outputs": [
        {
          "output_type": "stream",
          "name": "stdout",
          "text": [
            "Shape of the dataset: (20819, 10)\n"
          ]
        }
      ]
    },
    {
      "cell_type": "code",
      "source": [
        "print(df.dtypes)\n"
      ],
      "metadata": {
        "colab": {
          "base_uri": "https://localhost:8080/"
        },
        "id": "DF-sQgr1zPLu",
        "outputId": "4f35861b-842e-483e-af5c-cf1ce4e90a2b"
      },
      "execution_count": 5,
      "outputs": [
        {
          "output_type": "stream",
          "name": "stdout",
          "text": [
            "Date                                         object\n",
            "County                                       object\n",
            "State                                        object\n",
            "Vehicle Primary Use                          object\n",
            "Battery Electric Vehicles (BEVs)             object\n",
            "Plug-In Hybrid Electric Vehicles (PHEVs)     object\n",
            "Electric Vehicle (EV) Total                  object\n",
            "Non-Electric Vehicle Total                   object\n",
            "Total Vehicles                               object\n",
            "Percent Electric Vehicles                   float64\n",
            "dtype: object\n"
          ]
        }
      ]
    },
    {
      "cell_type": "code",
      "source": [
        "print(df.isnull().sum())\n"
      ],
      "metadata": {
        "colab": {
          "base_uri": "https://localhost:8080/"
        },
        "id": "MayExDaBzSS6",
        "outputId": "b4a55c37-bcdd-4341-97d5-ab1d4358efa6"
      },
      "execution_count": 6,
      "outputs": [
        {
          "output_type": "stream",
          "name": "stdout",
          "text": [
            "Date                                         0\n",
            "County                                      86\n",
            "State                                       86\n",
            "Vehicle Primary Use                          0\n",
            "Battery Electric Vehicles (BEVs)             0\n",
            "Plug-In Hybrid Electric Vehicles (PHEVs)     0\n",
            "Electric Vehicle (EV) Total                  0\n",
            "Non-Electric Vehicle Total                   0\n",
            "Total Vehicles                               0\n",
            "Percent Electric Vehicles                    0\n",
            "dtype: int64\n"
          ]
        }
      ]
    },
    {
      "cell_type": "code",
      "source": [
        "df['Date'] = pd.to_datetime(df['Date'], errors='coerce')\n",
        "print(\"Date column converted.\")\n"
      ],
      "metadata": {
        "colab": {
          "base_uri": "https://localhost:8080/"
        },
        "id": "O5FBfCAnzVUF",
        "outputId": "e4ed94cb-bb36-4529-bc10-b509f5c46f6e"
      },
      "execution_count": 7,
      "outputs": [
        {
          "output_type": "stream",
          "name": "stdout",
          "text": [
            "Date column converted.\n"
          ]
        }
      ]
    },
    {
      "cell_type": "code",
      "source": [
        "df = df[df['Date'].notnull()]\n",
        "print(\"Rows with valid dates:\", df.shape[0])\n"
      ],
      "metadata": {
        "colab": {
          "base_uri": "https://localhost:8080/"
        },
        "id": "N_T107cDzXtp",
        "outputId": "b45c5daf-1b19-4c69-b217-145345381642"
      },
      "execution_count": 8,
      "outputs": [
        {
          "output_type": "stream",
          "name": "stdout",
          "text": [
            "Rows with valid dates: 20819\n"
          ]
        }
      ]
    },
    {
      "cell_type": "code",
      "source": [
        "df['County'] = df['County'].fillna('Unknown')\n",
        "df['State'] = df['State'].fillna('Unknown')\n",
        "\n",
        "print(\"Missing values filled.\")\n",
        "print(df[['County', 'State']].isnull().sum())\n"
      ],
      "metadata": {
        "colab": {
          "base_uri": "https://localhost:8080/"
        },
        "id": "3g4sOjTwzabb",
        "outputId": "2ff31fc4-2188-4bb1-9f5d-36757afa2664"
      },
      "execution_count": 9,
      "outputs": [
        {
          "output_type": "stream",
          "name": "stdout",
          "text": [
            "Missing values filled.\n",
            "County    0\n",
            "State     0\n",
            "dtype: int64\n"
          ]
        }
      ]
    },
    {
      "cell_type": "code",
      "source": [
        "cols_to_convert = [\n",
        "    'Battery Electric Vehicles (BEVs)',\n",
        "    'Plug-In Hybrid Electric Vehicles (PHEVs)',\n",
        "    'Electric Vehicle (EV) Total',\n",
        "    'Non-Electric Vehicle Total',\n",
        "    'Total Vehicles'\n",
        "]\n",
        "\n",
        "for col in cols_to_convert:\n",
        "    df[col] = df[col].astype(str).str.replace(\",\", \"\")\n",
        "    df[col] = pd.to_numeric(df[col], errors='coerce')\n",
        "\n",
        "print(\"Converted object columns to numeric.\")\n"
      ],
      "metadata": {
        "colab": {
          "base_uri": "https://localhost:8080/"
        },
        "id": "pf1HUnIPze3z",
        "outputId": "d8a7498d-8afa-4c02-e498-1afb78aed610"
      },
      "execution_count": 10,
      "outputs": [
        {
          "output_type": "stream",
          "name": "stdout",
          "text": [
            "Converted object columns to numeric.\n"
          ]
        }
      ]
    },
    {
      "cell_type": "code",
      "source": [
        "df = df.dropna(subset=cols_to_convert)\n",
        "df.reset_index(drop=True, inplace=True)\n",
        "\n",
        "print(\"Remaining rows after removing invalid numbers:\", df.shape[0])\n"
      ],
      "metadata": {
        "colab": {
          "base_uri": "https://localhost:8080/"
        },
        "id": "3M8ILkePzhdF",
        "outputId": "b6adae55-9600-490f-8a3f-119b0d1b5de7"
      },
      "execution_count": 11,
      "outputs": [
        {
          "output_type": "stream",
          "name": "stdout",
          "text": [
            "Remaining rows after removing invalid numbers: 20819\n"
          ]
        }
      ]
    },
    {
      "cell_type": "code",
      "source": [
        "Q1 = df['Percent Electric Vehicles'].quantile(0.25)\n",
        "Q3 = df['Percent Electric Vehicles'].quantile(0.75)\n",
        "IQR = Q3 - Q1\n",
        "\n",
        "lower_bound = Q1 - 1.5 * IQR\n",
        "upper_bound = Q3 + 1.5 * IQR\n",
        "\n",
        "df['Percent Electric Vehicles'] = np.where(\n",
        "    df['Percent Electric Vehicles'] > upper_bound, upper_bound,\n",
        "    np.where(df['Percent Electric Vehicles'] < lower_bound, lower_bound,\n",
        "             df['Percent Electric Vehicles'])\n",
        ")\n",
        "\n",
        "print(\"Outliers capped successfully.\")\n"
      ],
      "metadata": {
        "colab": {
          "base_uri": "https://localhost:8080/"
        },
        "id": "hhot-oS0zlOw",
        "outputId": "2c8b6e17-9b10-49ad-8416-bf96d30f2cf3"
      },
      "execution_count": 12,
      "outputs": [
        {
          "output_type": "stream",
          "name": "stdout",
          "text": [
            "Outliers capped successfully.\n"
          ]
        }
      ]
    },
    {
      "cell_type": "code",
      "source": [
        "print(\"Final Data Sample:\")\n",
        "print(df.head())\n"
      ],
      "metadata": {
        "colab": {
          "base_uri": "https://localhost:8080/"
        },
        "id": "J6ieLUPFzn_5",
        "outputId": "63dbad6b-f486-421b-c55b-f6970ab39a4b"
      },
      "execution_count": 13,
      "outputs": [
        {
          "output_type": "stream",
          "name": "stdout",
          "text": [
            "Final Data Sample:\n",
            "        Date          County State Vehicle Primary Use  \\\n",
            "0 2022-09-30       Riverside    CA           Passenger   \n",
            "1 2022-12-31  Prince William    VA           Passenger   \n",
            "2 2020-01-31          Dakota    MN           Passenger   \n",
            "3 2022-06-30           Ferry    WA               Truck   \n",
            "4 2021-07-31         Douglas    CO           Passenger   \n",
            "\n",
            "   Battery Electric Vehicles (BEVs)  Plug-In Hybrid Electric Vehicles (PHEVs)  \\\n",
            "0                                 7                                         0   \n",
            "1                                 1                                         2   \n",
            "2                                 0                                         1   \n",
            "3                                 0                                         0   \n",
            "4                                 0                                         1   \n",
            "\n",
            "   Electric Vehicle (EV) Total  Non-Electric Vehicle Total  Total Vehicles  \\\n",
            "0                            7                         460             467   \n",
            "1                            3                         188             191   \n",
            "2                            1                          32              33   \n",
            "3                            0                        3575            3575   \n",
            "4                            1                          83              84   \n",
            "\n",
            "   Percent Electric Vehicles  \n",
            "0                       1.50  \n",
            "1                       1.57  \n",
            "2                       3.03  \n",
            "3                       0.00  \n",
            "4                       1.19  \n"
          ]
        }
      ]
    },
    {
      "cell_type": "code",
      "source": [],
      "metadata": {
        "id": "Merqpd3YzqrL"
      },
      "execution_count": null,
      "outputs": []
    }
  ]
}